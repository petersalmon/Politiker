{
 "cells": [
  {
   "cell_type": "markdown",
   "metadata": {},
   "source": [
    "The purpose of this notebook is to load individuals contribution data from the FEC website for all individuals in NY state.\n",
    "\n",
    "The following steps will need to be taken:\n",
    "\n",
    "1. Download the data and unzip if necessary\n",
    "2. Load the data into a dataframe\n",
    "3. Filter our all individuals that reside in NY state\n",
    "4. Push the data into our MySQL database\n",
    "\n",
    "Data obtained from:\n",
    "\n",
    "https://www.fec.gov/data/browse-data/?tab=bulk-data"
   ]
  },
  {
   "cell_type": "code",
   "execution_count": 18,
   "metadata": {},
   "outputs": [],
   "source": [
    "import pandas as pd\n",
    "import numpy as np\n",
    "import requests\n",
    "import itertools\n",
    "import xlrd\n",
    "import csv\n",
    "import os\n",
    "import io\n",
    "import requests\n",
    "from zipfile import ZipFile\n",
    "from io import StringIO, BytesIO\n",
    "from urllib.request import urlopen\n",
    "import json\n",
    "import mysql.connector\n",
    "import sqlalchemy\n",
    "from credentials import MYSQL_PASSWORD\n",
    "pd.set_option('display.max_rows', 5000)"
   ]
  },
  {
   "cell_type": "markdown",
   "metadata": {},
   "source": [
    "## Candidate Data"
   ]
  },
  {
   "cell_type": "code",
   "execution_count": 15,
   "metadata": {
    "collapsed": true
   },
   "outputs": [
    {
     "data": {
      "text/plain": [
       "['CAND_ID',\n",
       " 'CAND_NAME',\n",
       " 'CAND_PTY_AFFILIATION',\n",
       " 'CAND_ELECTION_YR',\n",
       " 'CAND_OFFICE_ST',\n",
       " 'CAND_OFFICE',\n",
       " 'CAND_OFFICE_DISTRICT',\n",
       " 'CAND_ICI',\n",
       " 'CAND_STATUS',\n",
       " 'CAND_PCC',\n",
       " 'CAND_ST1',\n",
       " 'CAND_ST2',\n",
       " 'CAND_CITY',\n",
       " 'CAND_ST',\n",
       " 'CAND_ZIP']"
      ]
     },
     "execution_count": 15,
     "metadata": {},
     "output_type": "execute_result"
    }
   ],
   "source": [
    "# Downloading the column names\n",
    "header_link = 'https://www.fec.gov/files/bulk-downloads/data_dictionaries/cn_header_file.csv'\n",
    "s = requests.get(header_link).content\n",
    "c = pd.read_csv(io.StringIO(s.decode('utf-8')))\n",
    "header_list = list(c.columns)"
   ]
  },
  {
   "cell_type": "code",
   "execution_count": 20,
   "metadata": {
    "collapsed": true
   },
   "outputs": [
    {
     "name": "stdout",
     "output_type": "stream",
     "text": [
      "6838\n",
      "14219\n",
      "21616\n"
     ]
    }
   ],
   "source": [
    "# Loading the data into a dataframe\n",
    "can_df = pd.DataFrame(columns = header_list)\n",
    "for year in [20,18,16]:\n",
    "    data_link = f'https://www.fec.gov/files/bulk-downloads/20{year}/cn{year}.zip'\n",
    "    r = urlopen(data_link).read()\n",
    "    file = ZipFile(BytesIO(r))\n",
    "    can_txt = file.open(\"cn.txt\")\n",
    "    df = pd.read_csv(can_txt, sep=\"|\", header=None, error_bad_lines=False)\n",
    "    df.columns = header_list\n",
    "    can_df = pd.concat([can_df, df], axis=0).reset_index(drop=True)"
   ]
  },
  {
   "cell_type": "code",
   "execution_count": 27,
   "metadata": {},
   "outputs": [],
   "source": [
    "# Removing duplicate records\n",
    "can_df = can_df.drop_duplicates().reset_index(drop=True)"
   ]
  },
  {
   "cell_type": "code",
   "execution_count": 28,
   "metadata": {},
   "outputs": [],
   "source": [
    "# Load data to the MySQL database\n",
    "host=\"192.168.4.38\"\n",
    "user=\"monty\"\n",
    "password=MYSQL_PASSWORD\n",
    "db=\"nyc\"\n",
    "port=3306\n",
    "\n",
    "conn = sqlalchemy.create_engine(f'mysql+mysqlconnector://{user}:{password}@{host}/{db}').connect()\n",
    "\n",
    "can_df.to_sql(con=conn, name='candidate_info', if_exists='append', index=False)\n",
    "                                \n",
    "conn.close()"
   ]
  },
  {
   "cell_type": "markdown",
   "metadata": {},
   "source": [
    "## Committee Data"
   ]
  },
  {
   "cell_type": "code",
   "execution_count": 30,
   "metadata": {
    "collapsed": true
   },
   "outputs": [
    {
     "data": {
      "text/plain": [
       "['CMTE_ID',\n",
       " 'CMTE_NM',\n",
       " 'TRES_NM',\n",
       " 'CMTE_ST1',\n",
       " 'CMTE_ST2',\n",
       " 'CMTE_CITY',\n",
       " 'CMTE_ST',\n",
       " 'CMTE_ZIP',\n",
       " 'CMTE_DSGN',\n",
       " 'CMTE_TP',\n",
       " 'CMTE_PTY_AFFILIATION',\n",
       " 'CMTE_FILING_FREQ',\n",
       " 'ORG_TP',\n",
       " 'CONNECTED_ORG_NM',\n",
       " 'CAND_ID']"
      ]
     },
     "execution_count": 30,
     "metadata": {},
     "output_type": "execute_result"
    }
   ],
   "source": [
    "# Downloading the column names\n",
    "header_link = 'https://www.fec.gov/files/bulk-downloads/data_dictionaries/cm_header_file.csv'\n",
    "s = requests.get(header_link).content\n",
    "c = pd.read_csv(io.StringIO(s.decode('utf-8')))\n",
    "header_list = list(c.columns)"
   ]
  },
  {
   "cell_type": "code",
   "execution_count": 34,
   "metadata": {
    "collapsed": true
   },
   "outputs": [
    {
     "name": "stdout",
     "output_type": "stream",
     "text": [
      "16299\n",
      "35327\n",
      "52981\n"
     ]
    }
   ],
   "source": [
    "# Loading the data into a dataframe\n",
    "com_df = pd.DataFrame(columns = header_list)\n",
    "for year in [20,18,16]:\n",
    "    data_link = f'https://www.fec.gov/files/bulk-downloads/20{year}/cm{year}.zip'\n",
    "    r = urlopen(data_link).read()\n",
    "    file = ZipFile(BytesIO(r))\n",
    "    com_txt = file.open(\"cm.txt\")\n",
    "    df = pd.read_csv(com_txt, sep=\"|\", header=None, error_bad_lines=False)\n",
    "    df.columns = header_list\n",
    "    com_df = pd.concat([com_df, df], axis=0).reset_index(drop=True)"
   ]
  },
  {
   "cell_type": "code",
   "execution_count": 35,
   "metadata": {},
   "outputs": [],
   "source": [
    "# Removing duplicate records\n",
    "com_df = com_df.drop_duplicates().reset_index(drop=True)"
   ]
  },
  {
   "cell_type": "code",
   "execution_count": 37,
   "metadata": {},
   "outputs": [],
   "source": [
    "# Load data to the MySQL database\n",
    "host=\"192.168.4.38\"\n",
    "user=\"monty\"\n",
    "password=MYSQL_PASSWORD\n",
    "db=\"nyc\"\n",
    "port=3306\n",
    "\n",
    "conn = sqlalchemy.create_engine(f'mysql+mysqlconnector://{user}:{password}@{host}/{db}').connect()\n",
    "\n",
    "com_df.to_sql(con=conn, name='committee_info', if_exists='append', index=False)\n",
    "                                \n",
    "conn.close()"
   ]
  },
  {
   "cell_type": "markdown",
   "metadata": {},
   "source": [
    "## Individual Contributions Data"
   ]
  },
  {
   "cell_type": "code",
   "execution_count": 62,
   "metadata": {},
   "outputs": [],
   "source": [
    "# Downloading the column names\n",
    "header_link = 'https://www.fec.gov/files/bulk-downloads/data_dictionaries/indiv_header_file.csv'\n",
    "s = requests.get(header_link).content\n",
    "c = pd.read_csv(io.StringIO(s.decode('utf-8')))\n",
    "header_list = list(c.columns)"
   ]
  },
  {
   "cell_type": "code",
   "execution_count": 63,
   "metadata": {},
   "outputs": [
    {
     "name": "stdout",
     "output_type": "stream",
     "text": [
      "23393810\n"
     ]
    }
   ],
   "source": [
    "# Checking the number of lines in the file\n",
    "with open('fec_data/itcont_2020.txt') as f:\n",
    "    for i, l in enumerate(f):\n",
    "        pass\n",
    "print(i + 1)"
   ]
  },
  {
   "cell_type": "code",
   "execution_count": 66,
   "metadata": {},
   "outputs": [
    {
     "name": "stderr",
     "output_type": "stream",
     "text": [
      "/anaconda3/lib/python3.6/site-packages/IPython/core/interactiveshell.py:2785: DtypeWarning: Columns (10) have mixed types. Specify dtype option on import or set low_memory=False.\n",
      "  interactivity=interactivity, compiler=compiler, result=result)\n"
     ]
    },
    {
     "name": "stdout",
     "output_type": "stream",
     "text": [
      "0\n",
      "1000000\n",
      "2000000\n",
      "3000000\n"
     ]
    },
    {
     "name": "stderr",
     "output_type": "stream",
     "text": [
      "/anaconda3/lib/python3.6/site-packages/IPython/core/interactiveshell.py:2785: DtypeWarning: Columns (10,18) have mixed types. Specify dtype option on import or set low_memory=False.\n",
      "  interactivity=interactivity, compiler=compiler, result=result)\n"
     ]
    },
    {
     "name": "stdout",
     "output_type": "stream",
     "text": [
      "4000000\n"
     ]
    },
    {
     "name": "stderr",
     "output_type": "stream",
     "text": [
      "/anaconda3/lib/python3.6/site-packages/IPython/core/interactiveshell.py:2785: DtypeWarning: Columns (3,10,18) have mixed types. Specify dtype option on import or set low_memory=False.\n",
      "  interactivity=interactivity, compiler=compiler, result=result)\n"
     ]
    },
    {
     "name": "stdout",
     "output_type": "stream",
     "text": [
      "5000000\n"
     ]
    },
    {
     "name": "stderr",
     "output_type": "stream",
     "text": [
      "b'Skipping line 6328020: expected 21 fields, saw 22\\n'\n"
     ]
    },
    {
     "name": "stdout",
     "output_type": "stream",
     "text": [
      "6000000\n",
      "7000000\n",
      "8000000\n",
      "9000000\n"
     ]
    },
    {
     "name": "stderr",
     "output_type": "stream",
     "text": [
      "/anaconda3/lib/python3.6/site-packages/IPython/core/interactiveshell.py:2785: DtypeWarning: Columns (3,10,11,12,16,18) have mixed types. Specify dtype option on import or set low_memory=False.\n",
      "  interactivity=interactivity, compiler=compiler, result=result)\n"
     ]
    },
    {
     "name": "stdout",
     "output_type": "stream",
     "text": [
      "10000000\n"
     ]
    },
    {
     "name": "stderr",
     "output_type": "stream",
     "text": [
      "/anaconda3/lib/python3.6/site-packages/IPython/core/interactiveshell.py:2785: DtypeWarning: Columns (18) have mixed types. Specify dtype option on import or set low_memory=False.\n",
      "  interactivity=interactivity, compiler=compiler, result=result)\n"
     ]
    },
    {
     "name": "stdout",
     "output_type": "stream",
     "text": [
      "11000000\n",
      "12000000\n"
     ]
    },
    {
     "name": "stderr",
     "output_type": "stream",
     "text": [
      "/anaconda3/lib/python3.6/site-packages/IPython/core/interactiveshell.py:2785: DtypeWarning: Columns (10,16,18) have mixed types. Specify dtype option on import or set low_memory=False.\n",
      "  interactivity=interactivity, compiler=compiler, result=result)\n"
     ]
    },
    {
     "name": "stdout",
     "output_type": "stream",
     "text": [
      "13000000\n",
      "14000000\n"
     ]
    },
    {
     "name": "stderr",
     "output_type": "stream",
     "text": [
      "/anaconda3/lib/python3.6/site-packages/IPython/core/interactiveshell.py:2785: DtypeWarning: Columns (10,16,18,19) have mixed types. Specify dtype option on import or set low_memory=False.\n",
      "  interactivity=interactivity, compiler=compiler, result=result)\n"
     ]
    },
    {
     "name": "stdout",
     "output_type": "stream",
     "text": [
      "15000000\n",
      "16000000\n",
      "17000000\n",
      "18000000\n",
      "19000000\n"
     ]
    },
    {
     "name": "stderr",
     "output_type": "stream",
     "text": [
      "/anaconda3/lib/python3.6/site-packages/IPython/core/interactiveshell.py:2785: DtypeWarning: Columns (10,15,16,18) have mixed types. Specify dtype option on import or set low_memory=False.\n",
      "  interactivity=interactivity, compiler=compiler, result=result)\n"
     ]
    },
    {
     "name": "stdout",
     "output_type": "stream",
     "text": [
      "20000000\n"
     ]
    },
    {
     "name": "stderr",
     "output_type": "stream",
     "text": [
      "/anaconda3/lib/python3.6/site-packages/IPython/core/interactiveshell.py:2785: DtypeWarning: Columns (10,19) have mixed types. Specify dtype option on import or set low_memory=False.\n",
      "  interactivity=interactivity, compiler=compiler, result=result)\n"
     ]
    },
    {
     "name": "stdout",
     "output_type": "stream",
     "text": [
      "21000000\n"
     ]
    },
    {
     "name": "stderr",
     "output_type": "stream",
     "text": [
      "/anaconda3/lib/python3.6/site-packages/IPython/core/interactiveshell.py:2785: DtypeWarning: Columns (10,18,19) have mixed types. Specify dtype option on import or set low_memory=False.\n",
      "  interactivity=interactivity, compiler=compiler, result=result)\n"
     ]
    },
    {
     "name": "stdout",
     "output_type": "stream",
     "text": [
      "22000000\n",
      "23000000\n"
     ]
    }
   ],
   "source": [
    "# The data has been manually downloaded and placed in a new folder called 'fec_data' \n",
    "\n",
    "# Create a connection engine to the MySQL database\n",
    "host=\"192.168.4.38\"\n",
    "user=\"monty\"\n",
    "password=MYSQL_PASSWORD\n",
    "db=\"nyc\"\n",
    "port=3306\n",
    "\n",
    "conn = sqlalchemy.create_engine(f'mysql+mysqlconnector://{user}:{password}@{host}/{db}').connect()\n",
    "\n",
    "# Read the data and load it into MySQL in chunks\n",
    "for x in range(0,24000000,1000000):\n",
    "    data = pd.read_csv('fec_data/itcont_2020.txt', sep=\"|\", header=None, error_bad_lines=False, skiprows=x,\n",
    "                        nrows=1000000)\n",
    "    data.columns = header_list\n",
    "    df = data[data['STATE'] == 'NY'].reset_index(drop=True)\n",
    "    \n",
    "    df.to_sql(con=conn, name='individual_donations', if_exists='append', index=False)\n",
    "    print(x)\n",
    "                                \n",
    "conn.close()"
   ]
  },
  {
   "cell_type": "code",
   "execution_count": null,
   "metadata": {},
   "outputs": [],
   "source": []
  }
 ],
 "metadata": {
  "kernelspec": {
   "display_name": "Python 3",
   "language": "python",
   "name": "python3"
  },
  "language_info": {
   "codemirror_mode": {
    "name": "ipython",
    "version": 3
   },
   "file_extension": ".py",
   "mimetype": "text/x-python",
   "name": "python",
   "nbconvert_exporter": "python",
   "pygments_lexer": "ipython3",
   "version": "3.6.8"
  }
 },
 "nbformat": 4,
 "nbformat_minor": 2
}
